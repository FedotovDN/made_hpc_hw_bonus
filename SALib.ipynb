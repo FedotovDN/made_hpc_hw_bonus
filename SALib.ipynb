{
 "cells": [
  {
   "cell_type": "code",
   "execution_count": 1,
   "metadata": {},
   "outputs": [],
   "source": [
    "from SALib.sample import saltelli\n",
    "from SALib.analyze import sobol\n",
    "from SALib.test_functions import Ishigami\n",
    "from math import *\n",
    "import numpy as np\n",
    "import time\n",
    "from numba import njit\n",
    "import ctypes"
   ]
  },
  {
   "cell_type": "code",
   "execution_count": 2,
   "metadata": {},
   "outputs": [],
   "source": [
    "#Коэффициенты\n",
    "a = 0.2\n",
    "b = 0.4"
   ]
  },
  {
   "cell_type": "code",
   "execution_count": 3,
   "metadata": {},
   "outputs": [],
   "source": [
    "#Придумаем какую-нибудь многомерную функцию\n",
    "def evaluate_model(x):\n",
    "    return cos(x[0]) + b * exp(x[1]) + a * x[2]**2 + sin(x[0]) * x[3]**3"
   ]
  },
  {
   "cell_type": "markdown",
   "metadata": {},
   "source": [
    "сделаем сразу копию-заготовку, чтобы оценить производительность numba"
   ]
  },
  {
   "cell_type": "code",
   "execution_count": 4,
   "metadata": {},
   "outputs": [],
   "source": [
    "@njit\n",
    "def evaluate_model_njit(x):\n",
    "    return cos(x[0]) + b * exp(x[1]) + a * x[2]**2 + sin(x[0]) * x[3]**3"
   ]
  },
  {
   "cell_type": "code",
   "execution_count": 5,
   "metadata": {},
   "outputs": [],
   "source": [
    "problem = {\n",
    "    'num_vars' : 4,\n",
    "    'names' : ['x1', 'x2', 'x3', 'x4'],\n",
    "    'bounds' : [[-5.0, 5.0],\n",
    "                [-5.0, 5.0],\n",
    "                [-5.0, 5.0],\n",
    "                [-5.0, 5.0]\n",
    "               ]\n",
    "}"
   ]
  },
  {
   "cell_type": "markdown",
   "metadata": {},
   "source": [
    "### NAIVE"
   ]
  },
  {
   "cell_type": "code",
   "execution_count": 6,
   "metadata": {},
   "outputs": [
    {
     "name": "stdout",
     "output_type": "stream",
     "text": [
      "n = 1000\n",
      "samples generation took 0.06200885772705078 seconds\n",
      "model evaluation took 0.023009300231933594 seconds\n",
      "sobol analyzing took 0.08800005912780762 seconds\n",
      "time spent: 0.173018217086792\n",
      "_________________________________________\n",
      "n = 10000\n",
      "samples generation took 0.38803911209106445 seconds\n",
      "model evaluation took 0.22400546073913574 seconds\n",
      "sobol analyzing took 1.125655174255371 seconds\n",
      "time spent: 1.7408041954040527\n",
      "_________________________________________\n",
      "n = 100000\n",
      "samples generation took 3.5757288932800293 seconds\n",
      "model evaluation took 2.236370325088501 seconds\n",
      "sobol analyzing took 12.386244297027588 seconds\n",
      "time spent: 18.199350357055664\n",
      "_________________________________________\n",
      "n = 1000000\n",
      "samples generation took 38.1824471950531 seconds\n",
      "model evaluation took 22.305063724517822 seconds\n",
      "sobol analyzing took 201.18292713165283 seconds\n",
      "time spent: 261.6723964214325\n",
      "_________________________________________\n"
     ]
    }
   ],
   "source": [
    "for n in [1000, 10000, 100000, 1000000]:\n",
    "    print('n = ' + str(n))\n",
    "    start1 = time.time()\n",
    "    param_values = saltelli.sample(problem, n)\n",
    "    print(\"samples generation took %s seconds\" %(time.time() - start1))\n",
    "\n",
    "    Y = np.zeros(param_values.shape[0])\n",
    "\n",
    "    start2 = time.time()\n",
    "    for i, X in enumerate(param_values):\n",
    "        Y[i] = evaluate_model(X)\n",
    "    print(\"model evaluation took %s seconds\" %(time.time() - start2))\n",
    "\n",
    "    start3 = time.time()\n",
    "    S = sobol.analyze(problem, Y)\n",
    "    print(\"sobol analyzing took %s seconds\" %(time.time() - start3))\n",
    "    print('time spent: ' + str(time.time() - start1))\n",
    "    print('_________________________________________')"
   ]
  },
  {
   "cell_type": "markdown",
   "metadata": {},
   "source": [
    "### With NUMBA"
   ]
  },
  {
   "cell_type": "code",
   "execution_count": 7,
   "metadata": {},
   "outputs": [
    {
     "name": "stdout",
     "output_type": "stream",
     "text": [
      "n = 1000\n",
      "samples generation took 0.062027931213378906 seconds\n",
      "model evaluation took 0.22422051429748535 seconds\n",
      "sobol analyzing took 0.09000110626220703 seconds\n",
      "time spent: 0.38321971893310547\n",
      "_________________________________________\n",
      "n = 10000\n",
      "samples generation took 0.38291406631469727 seconds\n",
      "model evaluation took 0.05500078201293945 seconds\n",
      "sobol analyzing took 1.1458327770233154 seconds\n",
      "time spent: 1.5837476253509521\n",
      "_________________________________________\n",
      "n = 100000\n",
      "samples generation took 3.924820899963379 seconds\n",
      "model evaluation took 0.5322489738464355 seconds\n",
      "sobol analyzing took 13.342687845230103 seconds\n",
      "time spent: 17.799757719039917\n",
      "_________________________________________\n",
      "n = 1000000\n",
      "samples generation took 37.72104787826538 seconds\n",
      "model evaluation took 5.46831488609314 seconds\n",
      "sobol analyzing took 196.224454164505 seconds\n",
      "time spent: 239.41481828689575\n",
      "_________________________________________\n"
     ]
    }
   ],
   "source": [
    "for n in [1000, 10000, 100000, 1000000]:\n",
    "    print('n = ' + str(n))\n",
    "    start1 = time.time()\n",
    "    param_values = saltelli.sample(problem, n)\n",
    "    print(\"samples generation took %s seconds\" %(time.time() - start1))\n",
    "\n",
    "    Y = np.zeros(param_values.shape[0])\n",
    "\n",
    "    start2 = time.time()\n",
    "    for i, X in enumerate(param_values):\n",
    "        Y[i] = evaluate_model_njit(X)\n",
    "    print(\"model evaluation took %s seconds\" %(time.time() - start2))\n",
    "\n",
    "    start3 = time.time()\n",
    "    S = sobol.analyze(problem, Y)\n",
    "    print(\"sobol analyzing took %s seconds\" %(time.time() - start3))\n",
    "    print('time spent: ' + str(time.time() - start1))\n",
    "    print('_________________________________________')"
   ]
  },
  {
   "cell_type": "code",
   "execution_count": 8,
   "metadata": {},
   "outputs": [
    {
     "name": "stdout",
     "output_type": "stream",
     "text": [
      "[0.00049283 0.10671535 0.00168328 0.00020866]\n"
     ]
    }
   ],
   "source": [
    "# first-order indices\n",
    "print(S['S1'])"
   ]
  },
  {
   "cell_type": "code",
   "execution_count": 9,
   "metadata": {},
   "outputs": [
    {
     "name": "stdout",
     "output_type": "stream",
     "text": [
      "[0.89155584 0.10676564 0.00168302 0.89124519]\n"
     ]
    }
   ],
   "source": [
    "# total indices for each variables\n",
    "print(S['ST'])"
   ]
  },
  {
   "cell_type": "code",
   "execution_count": 10,
   "metadata": {},
   "outputs": [
    {
     "name": "stdout",
     "output_type": "stream",
     "text": [
      "x1-x2:  1.3383421256354944e-05\n",
      "x1-x3:  -3.9213709952956415e-05\n",
      "x1-x4:  0.890995103298507\n",
      "x2-x3:  5.843712795765678e-05\n",
      "x2-x4:  4.889035115416971e-05\n",
      "x3-x4:  3.815437371321238e-07\n"
     ]
    }
   ],
   "source": [
    "# second order indices\n",
    "print(\"x1-x2: \", S['S2'][0, 1])\n",
    "print(\"x1-x3: \", S['S2'][0, 2])\n",
    "print(\"x1-x4: \", S['S2'][0, 3])\n",
    "print(\"x2-x3: \", S['S2'][1, 2])\n",
    "print(\"x2-x4: \", S['S2'][1, 3])\n",
    "print(\"x3-x4: \", S['S2'][2, 3])"
   ]
  },
  {
   "cell_type": "markdown",
   "metadata": {},
   "source": [
    "### CTYPES"
   ]
  },
  {
   "cell_type": "code",
   "execution_count": 11,
   "metadata": {},
   "outputs": [],
   "source": [
    "# Загрузка библиотеки\n",
    "libfunc = ctypes.CDLL('libfunc.so')"
   ]
  },
  {
   "cell_type": "code",
   "execution_count": 12,
   "metadata": {},
   "outputs": [],
   "source": [
    "# Указываем, что функция возвращает double\n",
    "libfunc.evaluate_model.restype = ctypes.c_double\n",
    "# Указываем, что функция принимает аргументы double\n",
    "libfunc.evaluate_model.argtypes = [ctypes.c_double, ctypes.c_double, ctypes.c_double, ctypes.c_double]"
   ]
  },
  {
   "cell_type": "code",
   "execution_count": 13,
   "metadata": {},
   "outputs": [
    {
     "name": "stdout",
     "output_type": "stream",
     "text": [
      "n = 1000\n",
      "samples generation took 0.06255722045898438 seconds\n",
      "model evaluation took 0.045999765396118164 seconds\n",
      "sobol analyzing took 0.09200096130371094 seconds\n",
      "time spent: 0.2085583209991455\n",
      "_________________________________________\n",
      "n = 10000\n",
      "samples generation took 0.3830382823944092 seconds\n",
      "model evaluation took 0.1699967384338379 seconds\n",
      "sobol analyzing took 1.1081700325012207 seconds\n",
      "time spent: 1.6612050533294678\n",
      "_________________________________________\n",
      "n = 100000\n",
      "samples generation took 3.640841245651245 seconds\n",
      "model evaluation took 1.846695899963379 seconds\n",
      "sobol analyzing took 12.944727420806885 seconds\n",
      "time spent: 18.43526530265808\n",
      "_________________________________________\n",
      "n = 1000000\n",
      "samples generation took 37.25505089759827 seconds\n",
      "model evaluation took 17.300273895263672 seconds\n",
      "sobol analyzing took 202.77235507965088 seconds\n",
      "time spent: 257.32959246635437\n",
      "_________________________________________\n"
     ]
    }
   ],
   "source": [
    "for n in [1000, 10000, 100000, 1000000]:\n",
    "    print('n = ' + str(n))\n",
    "    start1 = time.time()\n",
    "    param_values = saltelli.sample(problem, n)\n",
    "    print(\"samples generation took %s seconds\" %(time.time() - start1))\n",
    "\n",
    "    Y = np.zeros(param_values.shape[0])\n",
    "\n",
    "    start2 = time.time()\n",
    "    for i, X in enumerate(param_values):\n",
    "        Y[i] = libfunc.evaluate_model(X[0], X[1], X[2], X[3])\n",
    "    print(\"model evaluation took %s seconds\" %(time.time() - start2))\n",
    "\n",
    "    start3 = time.time()\n",
    "    S = sobol.analyze(problem, Y)\n",
    "    print(\"sobol analyzing took %s seconds\" %(time.time() - start3))\n",
    "    print('time spent: ' + str(time.time() - start1))\n",
    "    print('_________________________________________')"
   ]
  },
  {
   "cell_type": "markdown",
   "metadata": {},
   "source": [
    "### Parallel"
   ]
  },
  {
   "cell_type": "code",
   "execution_count": 14,
   "metadata": {},
   "outputs": [],
   "source": [
    "from threading import Thread"
   ]
  },
  {
   "cell_type": "code",
   "execution_count": 15,
   "metadata": {},
   "outputs": [],
   "source": [
    "def par_func(t):\n",
    "    for i, X in enumerate(param_values[int(t*n/10) : int((t + 1)*n/10)]):\n",
    "        Y[int(t*n/10) : int((t + 1)*n/10)] = evaluate_model(X)"
   ]
  },
  {
   "cell_type": "code",
   "execution_count": 18,
   "metadata": {},
   "outputs": [
    {
     "name": "stdout",
     "output_type": "stream",
     "text": [
      "n = 1000\n",
      "samples generation took 0.08600211143493652 seconds\n",
      "model evaluation took 0.006964683532714844 seconds\n",
      "sobol analyzing took 0.0890355110168457 seconds\n",
      "time spent: 0.19100236892700195\n",
      "_________________________________________\n",
      "n = 10000\n",
      "samples generation took 0.3785512447357178 seconds\n",
      "model evaluation took 0.1024789810180664 seconds\n",
      "sobol analyzing took 1.1391465663909912 seconds\n",
      "time spent: 1.6205863952636719\n",
      "_________________________________________\n",
      "n = 100000\n",
      "samples generation took 3.744311809539795 seconds\n",
      "model evaluation took 1.0009465217590332 seconds\n",
      "sobol analyzing took 12.680296421051025 seconds\n",
      "time spent: 17.425934314727783\n",
      "_________________________________________\n",
      "n = 1000000\n",
      "samples generation took 36.197612047195435 seconds\n",
      "model evaluation took 12.934038162231445 seconds\n",
      "sobol analyzing took 200.1975064277649 seconds\n",
      "time spent: 249.33229207992554\n",
      "_________________________________________\n"
     ]
    }
   ],
   "source": [
    "for n in [1000, 10000, 100000, 1000000]:\n",
    "    print('n = ' + str(n))\n",
    "    start1 = time.time()\n",
    "    param_values = saltelli.sample(problem, n)\n",
    "    print(\"samples generation took %s seconds\" %(time.time() - start1))\n",
    "\n",
    "    Y = np.zeros(param_values.shape[0])\n",
    "\n",
    "    start2 = time.time()\n",
    "    threads = {}\n",
    "    for t in range(10):\n",
    "        threads.update({'t' + str(t) : Thread(target=par_func, args=[t])})\n",
    "    for t in range(10):\n",
    "        threads['t' + str(t)].start()\n",
    "    for t in range(10):\n",
    "        threads['t' + str(t)].join()\n",
    "    print(\"model evaluation took %s seconds\" %(time.time() - start2))\n",
    "\n",
    "    start3 = time.time()\n",
    "    S = sobol.analyze(problem, Y)\n",
    "    print(\"sobol analyzing took %s seconds\" %(time.time() - start3))\n",
    "    print('time spent: ' + str(time.time() - start1))\n",
    "    print('_________________________________________')"
   ]
  },
  {
   "cell_type": "code",
   "execution_count": null,
   "metadata": {},
   "outputs": [],
   "source": []
  }
 ],
 "metadata": {
  "kernelspec": {
   "display_name": "Python 3",
   "language": "python",
   "name": "python3"
  },
  "language_info": {
   "codemirror_mode": {
    "name": "ipython",
    "version": 3
   },
   "file_extension": ".py",
   "mimetype": "text/x-python",
   "name": "python",
   "nbconvert_exporter": "python",
   "pygments_lexer": "ipython3",
   "version": "3.7.4"
  }
 },
 "nbformat": 4,
 "nbformat_minor": 2
}
